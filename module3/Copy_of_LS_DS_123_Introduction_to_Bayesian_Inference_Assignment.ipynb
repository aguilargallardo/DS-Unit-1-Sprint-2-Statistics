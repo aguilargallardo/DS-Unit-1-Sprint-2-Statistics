{
  "nbformat": 4,
  "nbformat_minor": 0,
  "metadata": {
    "colab": {
      "name": "Copy of LS_DS_123_Introduction_to_Bayesian_Inference_Assignment.ipynb",
      "provenance": [],
      "include_colab_link": true
    },
    "kernelspec": {
      "name": "python3",
      "display_name": "Python 3"
    }
  },
  "cells": [
    {
      "cell_type": "markdown",
      "metadata": {
        "id": "view-in-github",
        "colab_type": "text"
      },
      "source": [
        "<a href=\"https://colab.research.google.com/github/aguilargallardo/DS-Unit-1-Sprint-2-Statistics/blob/master/module3/Copy_of_LS_DS_123_Introduction_to_Bayesian_Inference_Assignment.ipynb\" target=\"_parent\"><img src=\"https://colab.research.google.com/assets/colab-badge.svg\" alt=\"Open In Colab\"/></a>"
      ]
    },
    {
      "cell_type": "markdown",
      "metadata": {
        "id": "H7OLbevlbd_Z",
        "colab_type": "text"
      },
      "source": [
        "# Lambda School Data Science Module 123\n",
        "\n",
        "## Introduction to Bayesian Inference\n",
        "\n",
        "\n"
      ]
    },
    {
      "cell_type": "markdown",
      "metadata": {
        "id": "P-DzzRk5bf0z",
        "colab_type": "text"
      },
      "source": [
        "## Assignment - Code it up!\n",
        "\n",
        "We used pure math to apply Bayes Theorem to drug tests. Now write Python code to reproduce the results! This is purposefully open ended - you'll have to think about how you should represent probabilities and events. You can and should look things up.\n",
        "\n",
        "Specific goals/targets:\n",
        "\n",
        "### 1) Write a function \n",
        "\n",
        "`def prob_drunk_given_positive(prob_drunk_prior, false_positive_rate):` \n",
        "\n",
        "You should only truly need these two values in order to apply Bayes Theorem. In this example, imagine that individuals are taking a breathalyzer test with an 8% false positive rate, a 100% true positive rate, and that our prior belief about drunk driving in the population is 1/1000. \n",
        " - What is the probability that a person is drunk after one positive breathalyzer test?\n",
        " - What is the probability that a person is drunk after two positive breathalyzer tests?\n",
        " - How many positive breathalyzer tests are needed in order to have a probability that's greater than 95% that a person is drunk beyond the legal limit?\n",
        "\n",
        "### 2) Explore `scipy.stats.bayes_mvs`  \n",
        "Read its documentation, and experiment with it on data you've tested in other ways earlier this week.\n",
        " - Create a visualization comparing the results of a Bayesian approach to a traditional/frequentist approach. (with a large sample size they should look close to identical, however, take this opportunity to practice visualizing condfidence intervals in general. The following are some potential ways that you could visualize confidence intervals on your graph:\n",
        "  - [Matplotlib Error Bars](https://matplotlib.org/3.1.1/api/_as_gen/matplotlib.pyplot.errorbar.html)\n",
        "  - [Seaborn barplot with error bars](https://seaborn.pydata.org/generated/seaborn.barplot.html)\n",
        "  - [Vertical ines to show bounds of confidence interval](https://www.simplypsychology.org/confidence-interval.jpg)\n",
        "  - [Confidence Intervals on Box Plots](https://matplotlib.org/3.1.1/api/_as_gen/matplotlib.axes.Axes.boxplot.html)\n",
        "\n",
        "### 3) In your own words, summarize the difference between Bayesian and Frequentist statistics\n",
        "\n",
        "If you're unsure where to start, check out [this blog post of Bayes theorem with Python](https://dataconomy.com/2015/02/introduction-to-bayes-theorem-with-python/).\n",
        "\n"
      ]
    },
    {
      "cell_type": "code",
      "metadata": {
        "id": "xpVhZyUnbf7o",
        "colab_type": "code",
        "colab": {}
      },
      "source": [
        "# TODO - code!\n",
        "import pandas as pd\n",
        "import numpy as np\n"
      ],
      "execution_count": 0,
      "outputs": []
    },
    {
      "cell_type": "code",
      "metadata": {
        "id": "Nd8LSalcLjYT",
        "colab_type": "code",
        "colab": {}
      },
      "source": [
        "#def drunk_pos(drunk_prior, false_pos, false_neg):\n"
      ],
      "execution_count": 0,
      "outputs": []
    },
    {
      "cell_type": "code",
      "metadata": {
        "id": "T2xofawB87Sh",
        "colab_type": "code",
        "outputId": "db2fec5c-b900-419d-fa27-7311d8c2ee44",
        "colab": {
          "base_uri": "https://localhost:8080/",
          "height": 34
        }
      },
      "source": [
        "P = 1/1000\n",
        "P_sober = 1 - P\n",
        "P_pos = 1\n",
        "P_falsepos = .08\n",
        "\n",
        "# My first iteration of Bayes Rule (Bayes Theorem)\n",
        "posterior_probability = (P_pos*P)/((P_pos*P) + (P_falsepos*P_sober))\n",
        "\n",
        "print(\"First Probability: \", posterior_probability)"
      ],
      "execution_count": 72,
      "outputs": [
        {
          "output_type": "stream",
          "text": [
            "First Probability:  0.012357884330202669\n"
          ],
          "name": "stdout"
        }
      ]
    },
    {
      "cell_type": "code",
      "metadata": {
        "id": "w4XP7UUBLjTL",
        "colab_type": "code",
        "colab": {
          "base_uri": "https://localhost:8080/",
          "height": 34
        },
        "outputId": "3cc41cfa-d5f9-47e1-81e8-97d382813f1d"
      },
      "source": [
        "P = posterior_probability\n",
        "\n",
        "posterior_probability = (P_pos*P)/((P_pos*P) + (P_falsepos*P_sober))\n",
        "\n",
        "print(\"Second Probability: \", posterior_probability)"
      ],
      "execution_count": 73,
      "outputs": [
        {
          "output_type": "stream",
          "text": [
            "Second Probability:  0.13392032576279944\n"
          ],
          "name": "stdout"
        }
      ]
    },
    {
      "cell_type": "code",
      "metadata": {
        "colab_type": "code",
        "outputId": "1111cbbe-d34d-4e6e-8ed5-5959fdfa011b",
        "id": "ZO8KVUJ7zUiO",
        "colab": {
          "base_uri": "https://localhost:8080/",
          "height": 34
        }
      },
      "source": [
        "P = posterior_probability\n",
        "\n",
        "posterior_probability = (P_pos*P)/((P_pos*P) + (P_falsepos*P_sober))\n",
        "\n",
        "print(\"3rd Probability: \", posterior_probability)"
      ],
      "execution_count": 74,
      "outputs": [
        {
          "output_type": "stream",
          "text": [
            "3rd Probability:  0.6262631956114275\n"
          ],
          "name": "stdout"
        }
      ]
    },
    {
      "cell_type": "code",
      "metadata": {
        "colab_type": "code",
        "outputId": "6d3043a6-b481-4e58-acc1-1788e6a3489f",
        "id": "j6vs8iZEzUsD",
        "colab": {
          "base_uri": "https://localhost:8080/",
          "height": 34
        }
      },
      "source": [
        "P = posterior_probability\n",
        "\n",
        "posterior_probability = (P_pos*P)/((P_pos*P) + (P_falsepos*P_sober))\n",
        "\n",
        "print(\"4th Probability: \", posterior_probability)"
      ],
      "execution_count": 75,
      "outputs": [
        {
          "output_type": "stream",
          "text": [
            "4th Probability:  0.8868282331034462\n"
          ],
          "name": "stdout"
        }
      ]
    },
    {
      "cell_type": "code",
      "metadata": {
        "colab_type": "code",
        "outputId": "33de1a46-d8ca-4221-fd74-e1248007c9cc",
        "id": "G9eYkkJ2zUzr",
        "colab": {
          "base_uri": "https://localhost:8080/",
          "height": 34
        }
      },
      "source": [
        "P = posterior_probability\n",
        "\n",
        "posterior_probability = (P_pos*P)/((P_pos*P) + (P_falsepos*P_sober))\n",
        "\n",
        "print(\"5th Probability: \", posterior_probability)"
      ],
      "execution_count": 76,
      "outputs": [
        {
          "output_type": "stream",
          "text": [
            "5th Probability:  0.9173311134550083\n"
          ],
          "name": "stdout"
        }
      ]
    },
    {
      "cell_type": "code",
      "metadata": {
        "colab_type": "code",
        "outputId": "8511d74a-26b0-41de-954d-9b422f467c7f",
        "id": "yKEAFY4-zU8m",
        "colab": {
          "base_uri": "https://localhost:8080/",
          "height": 34
        }
      },
      "source": [
        "P = posterior_probability\n",
        "\n",
        "posterior_probability = (P_pos*P)/((P_pos*P) + (P_falsepos*P_sober))\n",
        "\n",
        "print(\"6th Probability: \", posterior_probability)"
      ],
      "execution_count": 77,
      "outputs": [
        {
          "output_type": "stream",
          "text": [
            "6th Probability:  0.9198597034170114\n"
          ],
          "name": "stdout"
        }
      ]
    },
    {
      "cell_type": "code",
      "metadata": {
        "colab_type": "code",
        "outputId": "15879354-7007-4d5c-b24a-baf0d3508604",
        "id": "GEw6sLVXzVJ9",
        "colab": {
          "base_uri": "https://localhost:8080/",
          "height": 34
        }
      },
      "source": [
        "P = posterior_probability\n",
        "\n",
        "posterior_probability = (P_pos*P)/((P_pos*P) + (P_falsepos*P_sober))\n",
        "\n",
        "print(\"7th Probability: \", posterior_probability)"
      ],
      "execution_count": 78,
      "outputs": [
        {
          "output_type": "stream",
          "text": [
            "7th Probability:  0.9200623900176687\n"
          ],
          "name": "stdout"
        }
      ]
    },
    {
      "cell_type": "code",
      "metadata": {
        "colab_type": "code",
        "outputId": "79eab7cb-1715-4948-98e9-4c4c1b7f6dbb",
        "id": "ETbUJUxIzrRV",
        "colab": {
          "base_uri": "https://localhost:8080/",
          "height": 34
        }
      },
      "source": [
        "P = posterior_probability\n",
        "\n",
        "posterior_probability = (P_pos*P)/((P_pos*P) + (P_falsepos*P_sober))\n",
        "\n",
        "print(\"8th Probability: \", posterior_probability)"
      ],
      "execution_count": 79,
      "outputs": [
        {
          "output_type": "stream",
          "text": [
            "8th Probability:  0.9200785925854276\n"
          ],
          "name": "stdout"
        }
      ]
    },
    {
      "cell_type": "code",
      "metadata": {
        "colab_type": "code",
        "outputId": "5ccb6660-b252-4eb4-dd8d-0339b0279f7c",
        "id": "XXHeoW3Yzr1r",
        "colab": {
          "base_uri": "https://localhost:8080/",
          "height": 34
        }
      },
      "source": [
        "P = posterior_probability\n",
        "\n",
        "posterior_probability = (P_pos*P)/((P_pos*P) + (P_falsepos*P_sober))\n",
        "\n",
        "print(\"9th Probability: \", posterior_probability)"
      ],
      "execution_count": 80,
      "outputs": [
        {
          "output_type": "stream",
          "text": [
            "9th Probability:  0.9200798875192691\n"
          ],
          "name": "stdout"
        }
      ]
    },
    {
      "cell_type": "code",
      "metadata": {
        "colab_type": "code",
        "outputId": "d20311be-f04e-4e3d-fc1f-bde6190d6be0",
        "id": "CHb3hqg0zy-m",
        "colab": {
          "base_uri": "https://localhost:8080/",
          "height": 34
        }
      },
      "source": [
        "P = posterior_probability\n",
        "\n",
        "posterior_probability = (P_pos*P)/((P_pos*P) + (P_falsepos*P_sober))\n",
        "\n",
        "print(\"10th Probability: \", posterior_probability)"
      ],
      "execution_count": 81,
      "outputs": [
        {
          "output_type": "stream",
          "text": [
            "10th Probability:  0.920079991010539\n"
          ],
          "name": "stdout"
        }
      ]
    },
    {
      "cell_type": "code",
      "metadata": {
        "colab_type": "code",
        "outputId": "0afc6cf6-bcca-483c-c7db-3c9bf9f23652",
        "id": "s9_BsLFqzzLj",
        "colab": {
          "base_uri": "https://localhost:8080/",
          "height": 34
        }
      },
      "source": [
        "P = posterior_probability\n",
        "\n",
        "posterior_probability = (P_pos*P)/((P_pos*P) + (P_falsepos*P_sober))\n",
        "\n",
        "print(\"11th Probability: \", posterior_probability)"
      ],
      "execution_count": 82,
      "outputs": [
        {
          "output_type": "stream",
          "text": [
            "11th Probability:  0.9200799992815623\n"
          ],
          "name": "stdout"
        }
      ]
    },
    {
      "cell_type": "code",
      "metadata": {
        "colab_type": "code",
        "outputId": "c89f500f-2c2d-4631-a1e5-89dc58b63ab1",
        "id": "HV_WTkuOzzaH",
        "colab": {
          "base_uri": "https://localhost:8080/",
          "height": 34
        }
      },
      "source": [
        "P = posterior_probability\n",
        "\n",
        "posterior_probability = (P_pos*P)/((P_pos*P) + (P_falsepos*P_sober))\n",
        "\n",
        "print(\"12th Probability: \", posterior_probability)"
      ],
      "execution_count": 83,
      "outputs": [
        {
          "output_type": "stream",
          "text": [
            "12th Probability:  0.9200799999425825\n"
          ],
          "name": "stdout"
        }
      ]
    },
    {
      "cell_type": "code",
      "metadata": {
        "colab_type": "code",
        "outputId": "ba7e1c7a-9ba2-4585-9522-0c297062c877",
        "id": "eP7nogVJz_Bn",
        "colab": {
          "base_uri": "https://localhost:8080/",
          "height": 34
        }
      },
      "source": [
        "P = posterior_probability\n",
        "\n",
        "posterior_probability = (P_pos*P)/((P_pos*P) + (P_falsepos*P_sober))\n",
        "\n",
        "print(\"13th Probability: \", posterior_probability)"
      ],
      "execution_count": 84,
      "outputs": [
        {
          "output_type": "stream",
          "text": [
            "13th Probability:  0.9200799999954112\n"
          ],
          "name": "stdout"
        }
      ]
    },
    {
      "cell_type": "code",
      "metadata": {
        "colab_type": "code",
        "outputId": "70f8dddd-51bf-4925-cfea-f47899616f2d",
        "id": "FaXrjKwAz_Hl",
        "colab": {
          "base_uri": "https://localhost:8080/",
          "height": 34
        }
      },
      "source": [
        "P = posterior_probability\n",
        "\n",
        "posterior_probability = (P_pos*P)/((P_pos*P) + (P_falsepos*P_sober))\n",
        "\n",
        "print(\"14th Probability: \", posterior_probability)"
      ],
      "execution_count": 85,
      "outputs": [
        {
          "output_type": "stream",
          "text": [
            "14th Probability:  0.9200799999996333\n"
          ],
          "name": "stdout"
        }
      ]
    },
    {
      "cell_type": "code",
      "metadata": {
        "colab_type": "code",
        "outputId": "dadd5d71-d8a7-4374-a3ab-e9f168fa7d07",
        "id": "CqNnTLQqz_PE",
        "colab": {
          "base_uri": "https://localhost:8080/",
          "height": 34
        }
      },
      "source": [
        "P = posterior_probability\n",
        "\n",
        "posterior_probability = (P_pos*P)/((P_pos*P) + (P_falsepos*P_sober))\n",
        "\n",
        "print(\"15th Probability: \", posterior_probability)"
      ],
      "execution_count": 86,
      "outputs": [
        {
          "output_type": "stream",
          "text": [
            "15th Probability:  0.9200799999999707\n"
          ],
          "name": "stdout"
        }
      ]
    },
    {
      "cell_type": "code",
      "metadata": {
        "colab_type": "code",
        "outputId": "dc50af61-f070-4d52-d646-c4bdb897f57b",
        "id": "6VyMbu2Oz_NR",
        "colab": {
          "base_uri": "https://localhost:8080/",
          "height": 34
        }
      },
      "source": [
        "P = posterior_probability\n",
        "\n",
        "posterior_probability = (P_pos*P)/((P_pos*P) + (P_falsepos*P_sober))\n",
        "\n",
        "print(\"16th Probability: \", posterior_probability)"
      ],
      "execution_count": 87,
      "outputs": [
        {
          "output_type": "stream",
          "text": [
            "16th Probability:  0.9200799999999977\n"
          ],
          "name": "stdout"
        }
      ]
    },
    {
      "cell_type": "code",
      "metadata": {
        "colab_type": "code",
        "outputId": "f456e3f5-31f1-4a34-8aa1-01249566ebe0",
        "id": "yE4pDEgTz_Le",
        "colab": {
          "base_uri": "https://localhost:8080/",
          "height": 34
        }
      },
      "source": [
        "P = posterior_probability\n",
        "\n",
        "posterior_probability = (P_pos*P)/((P_pos*P) + (P_falsepos*P_sober))\n",
        "\n",
        "print(\"17th Probability: \", posterior_probability)"
      ],
      "execution_count": 88,
      "outputs": [
        {
          "output_type": "stream",
          "text": [
            "17th Probability:  0.9200799999999998\n"
          ],
          "name": "stdout"
        }
      ]
    },
    {
      "cell_type": "code",
      "metadata": {
        "colab_type": "code",
        "outputId": "edb07198-4fb1-43c0-c9ec-5baf6156587f",
        "id": "6whJoTYxz_Fh",
        "colab": {
          "base_uri": "https://localhost:8080/",
          "height": 34
        }
      },
      "source": [
        "P = posterior_probability\n",
        "\n",
        "posterior_probability = (P_pos*P)/((P_pos*P) + (P_falsepos*P_sober))\n",
        "\n",
        "print(\"18th Probability: \", posterior_probability)"
      ],
      "execution_count": 89,
      "outputs": [
        {
          "output_type": "stream",
          "text": [
            "18th Probability:  0.92008\n"
          ],
          "name": "stdout"
        }
      ]
    },
    {
      "cell_type": "code",
      "metadata": {
        "colab_type": "code",
        "outputId": "a676f17f-9e21-4f92-8405-2d52b4030871",
        "id": "WF6ULhF80N0U",
        "colab": {
          "base_uri": "https://localhost:8080/",
          "height": 34
        }
      },
      "source": [
        "P = posterior_probability\n",
        "\n",
        "posterior_probability = (P_pos*P)/((P_pos*P) + (P_falsepos*P_sober))\n",
        "#Ran it multiple times\n",
        "print(\"Final Probability: \", posterior_probability)"
      ],
      "execution_count": 90,
      "outputs": [
        {
          "output_type": "stream",
          "text": [
            "Final Probability:  0.92008\n"
          ],
          "name": "stdout"
        }
      ]
    },
    {
      "cell_type": "code",
      "metadata": {
        "colab_type": "code",
        "outputId": "a3dad09a-8b4d-4556-e6f1-1adc27cf0866",
        "id": "pg9sT4h40ZGw",
        "colab": {
          "base_uri": "https://localhost:8080/",
          "height": 34
        }
      },
      "source": [
        "P = posterior_probability\n",
        "\n",
        "posterior_probability = (P_pos*P)/((P_pos*P) + (P_falsepos*P_sober))\n",
        "\n",
        "print(\"Second Probability: \", posterior_probability)"
      ],
      "execution_count": 91,
      "outputs": [
        {
          "output_type": "stream",
          "text": [
            "Second Probability:  0.92008\n"
          ],
          "name": "stdout"
        }
      ]
    },
    {
      "cell_type": "markdown",
      "metadata": {
        "id": "5cMFGTmD_j2v",
        "colab_type": "text"
      },
      "source": [
        "2) Explore scipy.stats.bayes_mvs\n",
        "Read its documentation, and experiment with it on data you've tested in other ways earlier this week.\n",
        "\n",
        "Create a visualization comparing the results of a Bayesian approach to a traditional/frequentist approach. (with a large sample size they should look close to identical, however, take this opportunity to practice visualizing condfidence intervals in general. The following are some potential ways that you could visualize confidence intervals on your graph:\n",
        "Matplotlib Error Bars\n",
        "Seaborn barplot with error bars\n",
        "Vertical ines to show bounds of confidence interval\n",
        "Confidence Intervals on Box Plots"
      ]
    },
    {
      "cell_type": "markdown",
      "metadata": {
        "id": "ElGrLoHhDaeU",
        "colab_type": "text"
      },
      "source": [
        "#RYANS CODE"
      ]
    },
    {
      "cell_type": "code",
      "metadata": {
        "id": "ke-5EqJI0Tsn",
        "colab_type": "code",
        "outputId": "eff44533-dea8-4d5a-8c6c-7b9adb562297",
        "colab": {
          "base_uri": "https://localhost:8080/",
          "height": 68
        }
      },
      "source": [
        "# Activity 2 - Use SciPy to calculate Bayesian confidence intervals\n",
        "# https://docs.scipy.org/doc/scipy/reference/generated/scipy.stats.bayes_mvs.html#scipy.stats.bayes_mvs\n",
        "\n",
        "from scipy import stats\n",
        "import numpy as np\n",
        "\n",
        "# Set Random Seed for Reproducibility\n",
        "np.random.seed(seed=42)\n",
        "\n",
        "coinflips = np.random.binomial(n=1, p=.5, size=100)\n",
        "print(coinflips)"
      ],
      "execution_count": 92,
      "outputs": [
        {
          "output_type": "stream",
          "text": [
            "[0 1 1 1 0 0 0 1 1 1 0 1 1 0 0 0 0 1 0 0 1 0 0 0 0 1 0 1 1 0 1 0 0 1 1 1 0\n",
            " 0 1 0 0 0 0 1 0 1 0 1 1 0 1 1 1 1 1 1 0 0 0 0 0 0 1 0 0 1 0 1 0 1 1 0 0 1\n",
            " 1 1 1 0 0 0 1 1 0 0 0 0 1 1 1 0 0 1 1 1 1 0 1 0 0 0]\n"
          ],
          "name": "stdout"
        }
      ]
    },
    {
      "cell_type": "code",
      "metadata": {
        "id": "PfuGxE9HF0x_",
        "colab_type": "code",
        "outputId": "783df82f-1eeb-46ba-e243-16542cd1ae6f",
        "colab": {
          "base_uri": "https://localhost:8080/",
          "height": 34
        }
      },
      "source": [
        "def confidence_interval(data, confidence=.95):\n",
        "  n = len(data)\n",
        "  mean = sum(data)/n\n",
        "  data = np.array(data)\n",
        "  stderr = stats.sem(data)\n",
        "  interval = stderr * stats.t.ppf((1 + confidence) / 2.0, n-1)\n",
        "  return (mean , mean-interval, mean+interval)\n",
        "\n",
        "confidence_interval(coinflips)"
      ],
      "execution_count": 93,
      "outputs": [
        {
          "output_type": "execute_result",
          "data": {
            "text/plain": [
              "(0.47, 0.3704689875017368, 0.5695310124982632)"
            ]
          },
          "metadata": {
            "tags": []
          },
          "execution_count": 93
        }
      ]
    },
    {
      "cell_type": "code",
      "metadata": {
        "id": "B1TihIoXF3pu",
        "colab_type": "code",
        "outputId": "4d10cd73-0aa1-4876-f81d-eb6cb7e77ce1",
        "colab": {
          "base_uri": "https://localhost:8080/",
          "height": 34
        }
      },
      "source": [
        "mean_confidence_interval, _, _ = stats.bayes_mvs(coinflips, alpha=.95) # alpha is the confidence level for this equation\n",
        "print(mean_confidence_interval)"
      ],
      "execution_count": 94,
      "outputs": [
        {
          "output_type": "stream",
          "text": [
            "Mean(statistic=0.47, minmax=(0.37046898750173674, 0.5695310124982632))\n"
          ],
          "name": "stdout"
        }
      ]
    },
    {
      "cell_type": "code",
      "metadata": {
        "id": "_Rgt8dqX_kW-",
        "colab_type": "code",
        "colab": {
          "base_uri": "https://localhost:8080/",
          "height": 265
        },
        "outputId": "3333ebc5-1052-4849-f4e1-30299f69d577"
      },
      "source": [
        "from scipy import stats\n",
        "import matplotlib.pyplot as plt\n",
        "\n",
        "fig = plt.figure()\n",
        "\n",
        "ax = fig.add_subplot()\n",
        "ax.hist(confidence_interval(coinflips), bins=10, density=True, label='Histogram of data');\n"
      ],
      "execution_count": 109,
      "outputs": [
        {
          "output_type": "display_data",
          "data": {
            "image/png": "[encoded data removed]",
            "text/plain": [
              "<Figure size 432x288 with 1 Axes>"
            ]
          },
          "metadata": {
            "tags": []
          }
        }
      ]
    },
    {
      "cell_type": "markdown",
      "metadata": {
        "id": "OVu9zYLu11mS",
        "colab_type": "text"
      },
      "source": [
        "###3) In your own words, summarize the difference between Bayesian and Frequentist statistics"
      ]
    },
    {
      "cell_type": "markdown",
      "metadata": {
        "id": "CxUPsQzW15BK",
        "colab_type": "text"
      },
      "source": [
        "Frequentists \n",
        "\n",
        "- Gather their data sets from small samples of a large populus.\n",
        "- Conclude their null hypothesis from the distribution of data from sampling and long term frequencies.\n",
        "\n",
        "Bayesian\n",
        "\n",
        "- Gather their data from prior information.\n",
        "- Degrees of belief, and degrees of logical support"
      ]
    },
    {
      "cell_type": "markdown",
      "metadata": {
        "id": "uWgWjp3PQ3Sq",
        "colab_type": "text"
      },
      "source": [
        "## Resources"
      ]
    },
    {
      "cell_type": "markdown",
      "metadata": {
        "id": "QRgHqmYIQ9qn",
        "colab_type": "text"
      },
      "source": [
        "- [Worked example of Bayes rule calculation](https://en.wikipedia.org/wiki/Bayes'_theorem#Examples) (helpful as it fully breaks out the denominator)\n",
        "- [Source code for mvsdist in scipy](https://github.com/scipy/scipy/blob/90534919e139d2a81c24bf08341734ff41a3db12/scipy/stats/morestats.py#L139)"
      ]
    },
    {
      "cell_type": "markdown",
      "metadata": {
        "id": "GP7Jv1XvwtkX",
        "colab_type": "text"
      },
      "source": [
        "## Stretch Goals:\n",
        "\n",
        "- Go back and study the content from Modules 1 & 2 to make sure that you're really comfortable with them.\n",
        "- Apply a Bayesian technique to a problem you previously worked (in an assignment or project work) on from a frequentist (standard) perspective\n",
        "- Check out [PyMC3](https://docs.pymc.io/) (note this goes beyond hypothesis tests into modeling) - read the guides and work through some examples\n",
        "- Take PyMC3 further - see if you can build something with it!"
      ]
    },
    {
      "cell_type": "code",
      "metadata": {
        "id": "iDi0eFr1x-v_",
        "colab_type": "code",
        "colab": {}
      },
      "source": [
        ""
      ],
      "execution_count": 0,
      "outputs": []
    }
  ]
}