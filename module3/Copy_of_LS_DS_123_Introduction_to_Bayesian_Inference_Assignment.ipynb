{
  "nbformat": 4,
  "nbformat_minor": 0,
  "metadata": {
    "colab": {
      "name": "Copy of LS_DS_123_Introduction_to_Bayesian_Inference_Assignment.ipynb",
      "provenance": [],
      "include_colab_link": true
    },
    "kernelspec": {
      "name": "python3",
      "display_name": "Python 3"
    }
  },
  "cells": [
    {
      "cell_type": "markdown",
      "metadata": {
        "id": "view-in-github",
        "colab_type": "text"
      },
      "source": [
        "<a href=\"https://colab.research.google.com/github/aguilargallardo/DS-Unit-1-Sprint-2-Statistics/blob/master/module3/Copy_of_LS_DS_123_Introduction_to_Bayesian_Inference_Assignment.ipynb\" target=\"_parent\"><img src=\"https://colab.research.google.com/assets/colab-badge.svg\" alt=\"Open In Colab\"/></a>"
      ]
    },
    {
      "cell_type": "markdown",
      "metadata": {
        "id": "H7OLbevlbd_Z",
        "colab_type": "text"
      },
      "source": [
        "# Lambda School Data Science Module 123\n",
        "\n",
        "## Introduction to Bayesian Inference\n",
        "\n",
        "\n"
      ]
    },
    {
      "cell_type": "markdown",
      "metadata": {
        "id": "P-DzzRk5bf0z",
        "colab_type": "text"
      },
      "source": [
        "## Assignment - Code it up!\n",
        "\n",
        "We used pure math to apply Bayes Theorem to drug tests. Now write Python code to reproduce the results! This is purposefully open ended - you'll have to think about how you should represent probabilities and events. You can and should look things up.\n",
        "\n",
        "Specific goals/targets:\n",
        "\n",
        "### 1) Write a function \n",
        "\n",
        "`def prob_drunk_given_positive(prob_drunk_prior, false_positive_rate):` \n",
        "\n",
        "You should only truly need these two values in order to apply Bayes Theorem. In this example, imagine that individuals are taking a breathalyzer test with an 8% false positive rate, a 100% true positive rate, and that our prior belief about drunk driving in the population is 1/1000. \n",
        " - What is the probability that a person is drunk after one positive breathalyzer test?\n",
        " - What is the probability that a person is drunk after two positive breathalyzer tests?\n",
        " - How many positive breathalyzer tests are needed in order to have a probability that's greater than 95% that a person is drunk beyond the legal limit?\n",
        "\n",
        "### 2) Explore `scipy.stats.bayes_mvs`  \n",
        "Read its documentation, and experiment with it on data you've tested in other ways earlier this week.\n",
        " - Create a visualization comparing the results of a Bayesian approach to a traditional/frequentist approach. (with a large sample size they should look close to identical, however, take this opportunity to practice visualizing condfidence intervals in general. The following are some potential ways that you could visualize confidence intervals on your graph:\n",
        "  - [Matplotlib Error Bars](https://matplotlib.org/3.1.1/api/_as_gen/matplotlib.pyplot.errorbar.html)\n",
        "  - [Seaborn barplot with error bars](https://seaborn.pydata.org/generated/seaborn.barplot.html)\n",
        "  - [Vertical ines to show bounds of confidence interval](https://www.simplypsychology.org/confidence-interval.jpg)\n",
        "  - [Confidence Intervals on Box Plots](https://matplotlib.org/3.1.1/api/_as_gen/matplotlib.axes.Axes.boxplot.html)\n",
        "\n",
        "### 3) In your own words, summarize the difference between Bayesian and Frequentist statistics\n",
        "\n",
        "If you're unsure where to start, check out [this blog post of Bayes theorem with Python](https://dataconomy.com/2015/02/introduction-to-bayes-theorem-with-python/).\n",
        "\n"
      ]
    },
    {
      "cell_type": "code",
      "metadata": {
        "id": "xpVhZyUnbf7o",
        "colab_type": "code",
        "colab": {}
      },
      "source": [
        "# TODO - code!\n",
        "import pandas as pd\n",
        "import numpy as np\n"
      ],
      "execution_count": 0,
      "outputs": []
    },
    {
      "cell_type": "code",
      "metadata": {
        "id": "Nd8LSalcLjYT",
        "colab_type": "code",
        "colab": {}
      },
      "source": [
        "#def drunk_pos(drunk_prior, false_pos, false_neg):\n"
      ],
      "execution_count": 0,
      "outputs": []
    },
    {
      "cell_type": "code",
      "metadata": {
        "id": "T2xofawB87Sh",
        "colab_type": "code",
        "outputId": "c051aef8-b78e-43a3-db97-0b39d6ee0988",
        "colab": {
          "base_uri": "https://localhost:8080/",
          "height": 34
        }
      },
      "source": [
        "P = 1/1000\n",
        "P_sober = 1 - P\n",
        "P_pos = 1\n",
        "P_falsepos = .08\n",
        "\n",
        "# My first iteration of Bayes Rule (Bayes Theorem)\n",
        "posterior_probability = (P_pos*P)/((P_pos*P) + (P_falsepos*P_sober))\n",
        "\n",
        "print(\"First Probability: \", posterior_probability)"
      ],
      "execution_count": 39,
      "outputs": [
        {
          "output_type": "stream",
          "text": [
            "First Probability:  0.012357884330202669\n"
          ],
          "name": "stdout"
        }
      ]
    },
    {
      "cell_type": "code",
      "metadata": {
        "id": "w4XP7UUBLjTL",
        "colab_type": "code",
        "colab": {
          "base_uri": "https://localhost:8080/",
          "height": 34
        },
        "outputId": "0256aa84-c954-426a-b9a8-bda95c4d51c4"
      },
      "source": [
        "P = posterior_probability\n",
        "\n",
        "posterior_probability = (P_pos*P)/((P_pos*P) + (P_falsepos*P_sober))\n",
        "\n",
        "print(\"Second Probability: \", posterior_probability)"
      ],
      "execution_count": 40,
      "outputs": [
        {
          "output_type": "stream",
          "text": [
            "Second Probability:  0.13392032576279944\n"
          ],
          "name": "stdout"
        }
      ]
    },
    {
      "cell_type": "code",
      "metadata": {
        "colab_type": "code",
        "outputId": "113be73a-a5df-48f3-9402-e54a9cb7d9cb",
        "id": "ZO8KVUJ7zUiO",
        "colab": {
          "base_uri": "https://localhost:8080/",
          "height": 34
        }
      },
      "source": [
        "P = posterior_probability\n",
        "\n",
        "posterior_probability = (P_pos*P)/((P_pos*P) + (P_falsepos*P_sober))\n",
        "\n",
        "print(\"3rd Probability: \", posterior_probability)"
      ],
      "execution_count": 41,
      "outputs": [
        {
          "output_type": "stream",
          "text": [
            "3rd Probability:  0.6262631956114275\n"
          ],
          "name": "stdout"
        }
      ]
    },
    {
      "cell_type": "code",
      "metadata": {
        "colab_type": "code",
        "outputId": "83a8e583-b493-4d7d-d87a-88f0faf8d6f5",
        "id": "j6vs8iZEzUsD",
        "colab": {
          "base_uri": "https://localhost:8080/",
          "height": 34
        }
      },
      "source": [
        "P = posterior_probability\n",
        "\n",
        "posterior_probability = (P_pos*P)/((P_pos*P) + (P_falsepos*P_sober))\n",
        "\n",
        "print(\"4th Probability: \", posterior_probability)"
      ],
      "execution_count": 42,
      "outputs": [
        {
          "output_type": "stream",
          "text": [
            "4th Probability:  0.8868282331034462\n"
          ],
          "name": "stdout"
        }
      ]
    },
    {
      "cell_type": "code",
      "metadata": {
        "colab_type": "code",
        "outputId": "68feb718-eb0e-46b5-e234-87d12642c952",
        "id": "G9eYkkJ2zUzr",
        "colab": {
          "base_uri": "https://localhost:8080/",
          "height": 34
        }
      },
      "source": [
        "P = posterior_probability\n",
        "\n",
        "posterior_probability = (P_pos*P)/((P_pos*P) + (P_falsepos*P_sober))\n",
        "\n",
        "print(\"5th Probability: \", posterior_probability)"
      ],
      "execution_count": 43,
      "outputs": [
        {
          "output_type": "stream",
          "text": [
            "5th Probability:  0.9173311134550083\n"
          ],
          "name": "stdout"
        }
      ]
    },
    {
      "cell_type": "code",
      "metadata": {
        "colab_type": "code",
        "outputId": "3fb76c4b-56b9-4708-fea5-a6afcd77ec3e",
        "id": "yKEAFY4-zU8m",
        "colab": {
          "base_uri": "https://localhost:8080/",
          "height": 34
        }
      },
      "source": [
        "P = posterior_probability\n",
        "\n",
        "posterior_probability = (P_pos*P)/((P_pos*P) + (P_falsepos*P_sober))\n",
        "\n",
        "print(\"6th Probability: \", posterior_probability)"
      ],
      "execution_count": 44,
      "outputs": [
        {
          "output_type": "stream",
          "text": [
            "6th Probability:  0.9198597034170114\n"
          ],
          "name": "stdout"
        }
      ]
    },
    {
      "cell_type": "code",
      "metadata": {
        "colab_type": "code",
        "outputId": "636c8f13-3758-4f92-85aa-e87f30beb158",
        "id": "GEw6sLVXzVJ9",
        "colab": {
          "base_uri": "https://localhost:8080/",
          "height": 34
        }
      },
      "source": [
        "P = posterior_probability\n",
        "\n",
        "posterior_probability = (P_pos*P)/((P_pos*P) + (P_falsepos*P_sober))\n",
        "\n",
        "print(\"7th Probability: \", posterior_probability)"
      ],
      "execution_count": 45,
      "outputs": [
        {
          "output_type": "stream",
          "text": [
            "7th Probability:  0.9200623900176687\n"
          ],
          "name": "stdout"
        }
      ]
    },
    {
      "cell_type": "code",
      "metadata": {
        "colab_type": "code",
        "outputId": "218e76a6-ae26-464d-e45d-6677c0c9168b",
        "id": "ETbUJUxIzrRV",
        "colab": {
          "base_uri": "https://localhost:8080/",
          "height": 34
        }
      },
      "source": [
        "P = posterior_probability\n",
        "\n",
        "posterior_probability = (P_pos*P)/((P_pos*P) + (P_falsepos*P_sober))\n",
        "\n",
        "print(\"8th Probability: \", posterior_probability)"
      ],
      "execution_count": 46,
      "outputs": [
        {
          "output_type": "stream",
          "text": [
            "8th Probability:  0.9200785925854276\n"
          ],
          "name": "stdout"
        }
      ]
    },
    {
      "cell_type": "code",
      "metadata": {
        "colab_type": "code",
        "outputId": "71c15390-ce52-491a-813e-a47bc20838c7",
        "id": "XXHeoW3Yzr1r",
        "colab": {
          "base_uri": "https://localhost:8080/",
          "height": 34
        }
      },
      "source": [
        "P = posterior_probability\n",
        "\n",
        "posterior_probability = (P_pos*P)/((P_pos*P) + (P_falsepos*P_sober))\n",
        "\n",
        "print(\"9th Probability: \", posterior_probability)"
      ],
      "execution_count": 47,
      "outputs": [
        {
          "output_type": "stream",
          "text": [
            "9th Probability:  0.9200798875192691\n"
          ],
          "name": "stdout"
        }
      ]
    },
    {
      "cell_type": "code",
      "metadata": {
        "colab_type": "code",
        "outputId": "9460834c-8867-4540-d2a6-d9fd04477fe5",
        "id": "CHb3hqg0zy-m",
        "colab": {
          "base_uri": "https://localhost:8080/",
          "height": 34
        }
      },
      "source": [
        "P = posterior_probability\n",
        "\n",
        "posterior_probability = (P_pos*P)/((P_pos*P) + (P_falsepos*P_sober))\n",
        "\n",
        "print(\"10th Probability: \", posterior_probability)"
      ],
      "execution_count": 48,
      "outputs": [
        {
          "output_type": "stream",
          "text": [
            "10th Probability:  0.920079991010539\n"
          ],
          "name": "stdout"
        }
      ]
    },
    {
      "cell_type": "code",
      "metadata": {
        "colab_type": "code",
        "outputId": "924ff5fe-3ce9-4178-b525-ccc80a9f36e8",
        "id": "s9_BsLFqzzLj",
        "colab": {
          "base_uri": "https://localhost:8080/",
          "height": 34
        }
      },
      "source": [
        "P = posterior_probability\n",
        "\n",
        "posterior_probability = (P_pos*P)/((P_pos*P) + (P_falsepos*P_sober))\n",
        "\n",
        "print(\"11th Probability: \", posterior_probability)"
      ],
      "execution_count": 49,
      "outputs": [
        {
          "output_type": "stream",
          "text": [
            "11th Probability:  0.9200799992815623\n"
          ],
          "name": "stdout"
        }
      ]
    },
    {
      "cell_type": "code",
      "metadata": {
        "colab_type": "code",
        "outputId": "018d2ec2-b9ef-4de4-e5a3-bf3eb473f384",
        "id": "HV_WTkuOzzaH",
        "colab": {
          "base_uri": "https://localhost:8080/",
          "height": 34
        }
      },
      "source": [
        "P = posterior_probability\n",
        "\n",
        "posterior_probability = (P_pos*P)/((P_pos*P) + (P_falsepos*P_sober))\n",
        "\n",
        "print(\"12th Probability: \", posterior_probability)"
      ],
      "execution_count": 50,
      "outputs": [
        {
          "output_type": "stream",
          "text": [
            "12th Probability:  0.9200799999425825\n"
          ],
          "name": "stdout"
        }
      ]
    },
    {
      "cell_type": "code",
      "metadata": {
        "colab_type": "code",
        "outputId": "a3d481b1-2153-4ebc-a1c2-8a560f34e7b6",
        "id": "eP7nogVJz_Bn",
        "colab": {
          "base_uri": "https://localhost:8080/",
          "height": 34
        }
      },
      "source": [
        "P = posterior_probability\n",
        "\n",
        "posterior_probability = (P_pos*P)/((P_pos*P) + (P_falsepos*P_sober))\n",
        "\n",
        "print(\"13th Probability: \", posterior_probability)"
      ],
      "execution_count": 51,
      "outputs": [
        {
          "output_type": "stream",
          "text": [
            "13th Probability:  0.9200799999954112\n"
          ],
          "name": "stdout"
        }
      ]
    },
    {
      "cell_type": "code",
      "metadata": {
        "colab_type": "code",
        "outputId": "13858ceb-ed2e-4805-f956-76108937b628",
        "id": "FaXrjKwAz_Hl",
        "colab": {
          "base_uri": "https://localhost:8080/",
          "height": 34
        }
      },
      "source": [
        "P = posterior_probability\n",
        "\n",
        "posterior_probability = (P_pos*P)/((P_pos*P) + (P_falsepos*P_sober))\n",
        "\n",
        "print(\"14th Probability: \", posterior_probability)"
      ],
      "execution_count": 52,
      "outputs": [
        {
          "output_type": "stream",
          "text": [
            "14th Probability:  0.9200799999996333\n"
          ],
          "name": "stdout"
        }
      ]
    },
    {
      "cell_type": "code",
      "metadata": {
        "colab_type": "code",
        "outputId": "81d82c12-db75-4a3e-efdc-55e37f666ed8",
        "id": "CqNnTLQqz_PE",
        "colab": {
          "base_uri": "https://localhost:8080/",
          "height": 34
        }
      },
      "source": [
        "P = posterior_probability\n",
        "\n",
        "posterior_probability = (P_pos*P)/((P_pos*P) + (P_falsepos*P_sober))\n",
        "\n",
        "print(\"15th Probability: \", posterior_probability)"
      ],
      "execution_count": 53,
      "outputs": [
        {
          "output_type": "stream",
          "text": [
            "15th Probability:  0.9200799999999707\n"
          ],
          "name": "stdout"
        }
      ]
    },
    {
      "cell_type": "code",
      "metadata": {
        "colab_type": "code",
        "outputId": "f144f7a1-5aa3-415c-a271-e2fb56dded16",
        "id": "6VyMbu2Oz_NR",
        "colab": {
          "base_uri": "https://localhost:8080/",
          "height": 34
        }
      },
      "source": [
        "P = posterior_probability\n",
        "\n",
        "posterior_probability = (P_pos*P)/((P_pos*P) + (P_falsepos*P_sober))\n",
        "\n",
        "print(\"16th Probability: \", posterior_probability)"
      ],
      "execution_count": 54,
      "outputs": [
        {
          "output_type": "stream",
          "text": [
            "16th Probability:  0.9200799999999977\n"
          ],
          "name": "stdout"
        }
      ]
    },
    {
      "cell_type": "code",
      "metadata": {
        "colab_type": "code",
        "outputId": "c6dd73ce-014d-4979-971e-4a61b55b6cd4",
        "id": "yE4pDEgTz_Le",
        "colab": {
          "base_uri": "https://localhost:8080/",
          "height": 34
        }
      },
      "source": [
        "P = posterior_probability\n",
        "\n",
        "posterior_probability = (P_pos*P)/((P_pos*P) + (P_falsepos*P_sober))\n",
        "\n",
        "print(\"17th Probability: \", posterior_probability)"
      ],
      "execution_count": 55,
      "outputs": [
        {
          "output_type": "stream",
          "text": [
            "17th Probability:  0.9200799999999998\n"
          ],
          "name": "stdout"
        }
      ]
    },
    {
      "cell_type": "code",
      "metadata": {
        "colab_type": "code",
        "outputId": "7e916f6e-e977-4756-c369-2c9fe7ea4813",
        "id": "6whJoTYxz_Fh",
        "colab": {
          "base_uri": "https://localhost:8080/",
          "height": 34
        }
      },
      "source": [
        "P = posterior_probability\n",
        "\n",
        "posterior_probability = (P_pos*P)/((P_pos*P) + (P_falsepos*P_sober))\n",
        "\n",
        "print(\"18th Probability: \", posterior_probability)"
      ],
      "execution_count": 56,
      "outputs": [
        {
          "output_type": "stream",
          "text": [
            "18th Probability:  0.92008\n"
          ],
          "name": "stdout"
        }
      ]
    },
    {
      "cell_type": "code",
      "metadata": {
        "colab_type": "code",
        "outputId": "520a8c17-5c87-4336-f958-cc5476422c51",
        "id": "WF6ULhF80N0U",
        "colab": {
          "base_uri": "https://localhost:8080/",
          "height": 34
        }
      },
      "source": [
        "P = posterior_probability\n",
        "\n",
        "posterior_probability = (P_pos*P)/((P_pos*P) + (P_falsepos*P_sober))\n",
        "#Ran it multiple times\n",
        "print(\"Final Probability: \", posterior_probability)"
      ],
      "execution_count": 64,
      "outputs": [
        {
          "output_type": "stream",
          "text": [
            "Final Probability:  0.92008\n"
          ],
          "name": "stdout"
        }
      ]
    },
    {
      "cell_type": "code",
      "metadata": {
        "colab_type": "code",
        "outputId": "8d80b2be-e886-47e5-cf30-15e9b35d178c",
        "id": "pg9sT4h40ZGw",
        "colab": {
          "base_uri": "https://localhost:8080/",
          "height": 34
        }
      },
      "source": [
        "P = posterior_probability\n",
        "\n",
        "posterior_probability = (P_pos*P)/((P_pos*P) + (P_falsepos*P_sober))\n",
        "\n",
        "print(\"Second Probability: \", posterior_probability)"
      ],
      "execution_count": 68,
      "outputs": [
        {
          "output_type": "stream",
          "text": [
            "Second Probability:  0.92008\n"
          ],
          "name": "stdout"
        }
      ]
    },
    {
      "cell_type": "markdown",
      "metadata": {
        "id": "5cMFGTmD_j2v",
        "colab_type": "text"
      },
      "source": [
        "2) Explore scipy.stats.bayes_mvs\n",
        "Read its documentation, and experiment with it on data you've tested in other ways earlier this week.\n",
        "\n",
        "Create a visualization comparing the results of a Bayesian approach to a traditional/frequentist approach. (with a large sample size they should look close to identical, however, take this opportunity to practice visualizing condfidence intervals in general. The following are some potential ways that you could visualize confidence intervals on your graph:\n",
        "Matplotlib Error Bars\n",
        "Seaborn barplot with error bars\n",
        "Vertical ines to show bounds of confidence interval\n",
        "Confidence Intervals on Box Plots"
      ]
    },
    {
      "cell_type": "code",
      "metadata": {
        "id": "_Rgt8dqX_kW-",
        "colab_type": "code",
        "colab": {}
      },
      "source": [
        ""
      ],
      "execution_count": 0,
      "outputs": []
    },
    {
      "cell_type": "markdown",
      "metadata": {
        "id": "OVu9zYLu11mS",
        "colab_type": "text"
      },
      "source": [
        "###3) In your own words, summarize the difference between Bayesian and Frequentist statistics"
      ]
    },
    {
      "cell_type": "markdown",
      "metadata": {
        "id": "CxUPsQzW15BK",
        "colab_type": "text"
      },
      "source": [
        "Frequentists \n",
        "\n",
        "- Gather their data sets from small samples of a large populus.\n",
        "- Conclude their null hypothesis from the distribution of data from sampling and long term frequencies.\n",
        "\n",
        "Bayesian\n",
        "\n",
        "- Gather their data from prior information.\n",
        "- Degrees of belief, and degrees of logical support"
      ]
    },
    {
      "cell_type": "markdown",
      "metadata": {
        "id": "uWgWjp3PQ3Sq",
        "colab_type": "text"
      },
      "source": [
        "## Resources"
      ]
    },
    {
      "cell_type": "markdown",
      "metadata": {
        "id": "QRgHqmYIQ9qn",
        "colab_type": "text"
      },
      "source": [
        "- [Worked example of Bayes rule calculation](https://en.wikipedia.org/wiki/Bayes'_theorem#Examples) (helpful as it fully breaks out the denominator)\n",
        "- [Source code for mvsdist in scipy](https://github.com/scipy/scipy/blob/90534919e139d2a81c24bf08341734ff41a3db12/scipy/stats/morestats.py#L139)"
      ]
    },
    {
      "cell_type": "markdown",
      "metadata": {
        "id": "GP7Jv1XvwtkX",
        "colab_type": "text"
      },
      "source": [
        "## Stretch Goals:\n",
        "\n",
        "- Go back and study the content from Modules 1 & 2 to make sure that you're really comfortable with them.\n",
        "- Apply a Bayesian technique to a problem you previously worked (in an assignment or project work) on from a frequentist (standard) perspective\n",
        "- Check out [PyMC3](https://docs.pymc.io/) (note this goes beyond hypothesis tests into modeling) - read the guides and work through some examples\n",
        "- Take PyMC3 further - see if you can build something with it!"
      ]
    },
    {
      "cell_type": "code",
      "metadata": {
        "id": "iDi0eFr1x-v_",
        "colab_type": "code",
        "colab": {}
      },
      "source": [
        ""
      ],
      "execution_count": 0,
      "outputs": []
    }
  ]
}